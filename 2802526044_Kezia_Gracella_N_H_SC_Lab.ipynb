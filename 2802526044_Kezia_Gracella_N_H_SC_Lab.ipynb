{
  "nbformat": 4,
  "nbformat_minor": 0,
  "metadata": {
    "colab": {
      "provenance": [],
      "authorship_tag": "ABX9TyOi/ReIHiYYGzAZ/+IstEpB",
      "include_colab_link": true
    },
    "kernelspec": {
      "name": "python3",
      "display_name": "Python 3"
    },
    "language_info": {
      "name": "python"
    }
  },
  "cells": [
    {
      "cell_type": "markdown",
      "metadata": {
        "id": "view-in-github",
        "colab_type": "text"
      },
      "source": [
        "<a href=\"https://colab.research.google.com/github/ttsukkeiii/2802526044---Kezia-Gracella---SC-Lab---BC20/blob/main/2802526044_Kezia_Gracella_N_H_SC_Lab.ipynb\" target=\"_parent\"><img src=\"https://colab.research.google.com/assets/colab-badge.svg\" alt=\"Open In Colab\"/></a>"
      ]
    },
    {
      "cell_type": "markdown",
      "source": [
        "Soal nomor 1:\n",
        "\n",
        "Diketahui persamaan berikut:\n",
        "\n",
        "2x + 3y -z = 10\n",
        "\n",
        "\n",
        "x - y + 2z = 4\n",
        "\n",
        "\n",
        "3x + 2y + z = 14\n",
        "\n",
        "\n",
        "a.\tTentukan nilai x, y, z dengan metode Gauss Seidel. Gunakan nilai initial: x = 5, y = 5, z = 5 dengan error tolerance = 0.001\n",
        "\n",
        "\n",
        "b.\tBandingkan hasilnya dengan menggunakan library Numpy"
      ],
      "metadata": {
        "id": "LmR5ozmec3TY"
      }
    },
    {
      "cell_type": "markdown",
      "source": [
        "Langkah pertama, cek apakah koefisien dari matriks diagonalnya dominan atau tidak."
      ],
      "metadata": {
        "id": "9B3e0i4qdq9d"
      }
    },
    {
      "cell_type": "code",
      "source": [
        "import numpy as np\n",
        "A = [[2, 3, -1], [1, -1, 2], [3, 2, 1]]\n",
        "\n",
        "# Cari koefisien diagonalnya\n",
        "diag = np.diag(np.abs(A))\n",
        "\n",
        "# Cari jumlah kolom tanpa diagonal\n",
        "off_diag = np.sum(np.abs(A), axis=1) - diag\n",
        "\n",
        "if np.all(diag > off_diag):\n",
        "    print('Matriks diagonalnya dominan')\n",
        "else:\n",
        "    print('Matriks diagonalnya tidak dominan')"
      ],
      "metadata": {
        "colab": {
          "base_uri": "https://localhost:8080/"
        },
        "id": "OGPQPxmpd1lW",
        "outputId": "b245ca92-aa14-4ae8-f772-9e1a98d5fa0e"
      },
      "execution_count": 1,
      "outputs": [
        {
          "output_type": "stream",
          "name": "stdout",
          "text": [
            "Matriks diagonalnya tidak dominan\n"
          ]
        }
      ]
    },
    {
      "cell_type": "markdown",
      "source": [
        "Meski hasilnya tidak dominan, kita akan tetap menyelesaikannya menggunakan metode Gauss-Seidel."
      ],
      "metadata": {
        "id": "LKg1g7Jge6Lg"
      }
    },
    {
      "cell_type": "code",
      "source": [
        "import numpy as np\n",
        "\n",
        "x = 5\n",
        "y = 5\n",
        "z = 5\n",
        "epsilon = 0.001\n",
        "converged = False\n",
        "\n",
        "x_old = np.array([x, y, z])\n",
        "\n",
        "for k in range(1, 50):\n",
        "    x = (10 - 3*y + z)/2\n",
        "    y = (4 - x + 2*z)/3\n",
        "    z = (14 - 3*x - 2*y)/2\n",
        "    x_new = np.array([x, y, z])\n",
        "    dx = np.sqrt(np.dot(x_new - x_old, x_new - x_old))\n",
        "\n",
        "    print(\"%d, %.4f, %.4f, %.4f\"%(k, x, y, z))\n",
        "    if dx < epsilon:\n",
        "        converged = True\n",
        "        print('Solusi ditemukan')\n",
        "        break\n",
        "\n",
        "    x_old = x_new\n",
        "if not converged:\n",
        "    print('Solusi tidak ditemukan')"
      ],
      "metadata": {
        "colab": {
          "base_uri": "https://localhost:8080/"
        },
        "id": "Mya-l-mBfCkH",
        "outputId": "90511f67-6079-4332-8d3a-a4ee86a50236"
      },
      "execution_count": 2,
      "outputs": [
        {
          "output_type": "stream",
          "name": "stdout",
          "text": [
            "1, 0.0000, 4.6667, 2.3333\n",
            "2, -0.8333, 3.1667, 5.0833\n",
            "3, 2.7917, 3.7917, -0.9792\n",
            "4, -1.1771, 1.0729, 7.6927\n",
            "5, 7.2370, 4.0495, -7.9049\n",
            "6, -5.0267, -2.2611, 16.8011\n",
            "7, 16.7922, 6.9367, -25.1249\n",
            "8, -17.9675, -9.4274, 43.3787\n",
            "9, 40.8305, 16.6423, -70.8881\n",
            "10, -55.4075, -27.4562, 117.5674\n",
            "11, 104.9680, 44.7223, -195.1743\n",
            "12, -159.6705, -75.5594, 322.0652\n",
            "13, 279.3716, 122.9196, -534.9770\n",
            "14, -446.8678, -206.3620, 883.6638\n",
            "15, 756.3750, 338.3176, -1465.8800\n",
            "16, -1235.4163, -564.1146, 2424.2391\n",
            "17, 2063.2914, 929.7289, -4017.6660\n",
            "18, -3398.4263, -1544.3019, 6648.9414\n",
            "19, 5645.9235, 2551.9864, -11013.8716\n",
            "20, -9329.9155, -4231.2759, 18233.1491\n",
            "21, 15468.4885, 7000.6033, -30196.3360\n",
            "22, -25594.0729, -11598.1997, 49996.3090\n",
            "23, 42400.4541, 19198.7213, -82792.4024\n",
            "24, -70189.2832, -31797.1739, 137088.0987\n",
            "25, 116244.8102, 52645.1291, -227005.3443\n",
            "26, -192465.3658, -87180.4409, 375885.4896\n",
            "27, 318718.4062, 144352.1910, -622422.8003\n",
            "28, -527734.6866, -239035.6380, 1030644.6680\n",
            "29, 873880.7910, 395804.1817, -1706618.3681\n",
            "30, -1447010.4565, -655407.4266, 2825930.1114\n",
            "31, 2396081.1956, 1085261.0091, -4679375.8024\n",
            "32, -3967574.4148, -1797057.7300, 7748426.3522\n",
            "33, 6569804.7711, 2975683.9778, -12830384.1344\n",
            "34, -10878713.0339, -4927350.4117, 21245426.9625\n",
            "35, 18013744.0987, 8159037.9421, -35179647.0901\n",
            "36, -29828375.4582, -13510304.9074, 58252875.0946\n",
            "37, 49391899.9084, 22371284.7603, -96459127.6229\n",
            "38, -81786485.9519, -37043921.7646, 159723657.6924\n",
            "39, 135427716.4931, 61339867.6306, -264481435.3703\n",
            "40, -224250514.1310, -101570784.2032, 437946562.3997\n",
            "41, 371329462.5046, 168187888.7649, -725182075.5219\n",
            "42, -614872865.9083, -278497093.7118, 1200806399.5743\n",
            "43, 1018148845.3549, 461154652.5979, -1988377913.6302\n",
            "44, -1685920930.7120, -763611630.8495, 3292493033.9175\n",
            "45, 2791663968.2330, 1264440701.2007, -5451936646.5501\n",
            "46, -4622629370.0761, -2093747973.0081, 9027692035.1222\n",
            "47, 7654467982.0732, 3466972030.7237, -14948673996.8335\n",
            "48, -12674795039.5023, -5740850983.3882, 24753043549.6417\n",
            "49, 20987798254.9032, 9506096282.7934, -40987793658.1481\n",
            "Solusi tidak ditemukan\n"
          ]
        }
      ]
    },
    {
      "cell_type": "markdown",
      "source": [
        "Karena diagonal matriks A tidak dominan, maka dengan menggunakan metode Gauss-Seidel ini akan memerlukan banyak iterasi untuk mencapai solusi bahkan dapat gagal untuk menemukan solusi."
      ],
      "metadata": {
        "id": "nl61zWJHiRah"
      }
    },
    {
      "cell_type": "markdown",
      "source": [
        "Mari kita bandingkan dengan menggunakan library Numpy."
      ],
      "metadata": {
        "id": "UG3K92EGilpC"
      }
    },
    {
      "cell_type": "code",
      "source": [
        "import numpy as np\n",
        "A = np.array([[2, 3, -1], [1, -1, 2], [3, 2, 1]])\n",
        "y = np.array([10, 4, 14])\n",
        "\n",
        "x = np.linalg.solve(A, y)\n",
        "print(x)"
      ],
      "metadata": {
        "colab": {
          "base_uri": "https://localhost:8080/"
        },
        "id": "f8ZaGm6Yizwu",
        "outputId": "b20925ee-8ff1-41ad-ddf8-a2225256e1da"
      },
      "execution_count": 4,
      "outputs": [
        {
          "output_type": "stream",
          "name": "stdout",
          "text": [
            "[0.65 4.15 3.75]\n"
          ]
        }
      ]
    },
    {
      "cell_type": "markdown",
      "source": [
        "Hasilnya terdapat solusi. Jadi, dari kedua cara yang telah kita coba, hasil dari library Numpy lebih efektif dalam menemukan solusinya."
      ],
      "metadata": {
        "id": "yT-fehA_jWS6"
      }
    },
    {
      "cell_type": "markdown",
      "source": [
        "Soal nomor dua:\n",
        "\n",
        "Diketahui persamaan berikut:\n",
        "\n",
        "3x - 0.1y - 0.2z = 7.85\n",
        "\n",
        "0.1x + 7y - 0.3z = -19.3\n",
        "\n",
        "0.3x - 0.2y + 10z = 71.4\n",
        "\n",
        "a.\tTentukan nilai x, y, z dengan metode Gauss Seidel. Gunakan nilai initial: x = 1, y = 2, z = 3 dengan error tolerance = 0.001\n",
        "\n",
        "b.\tBandingkan hasilnya dengan menggunakan library Numpy\n"
      ],
      "metadata": {
        "id": "SGyI_Gu6kKvB"
      }
    },
    {
      "cell_type": "markdown",
      "source": [
        "Sama seperti nomor satu, langkah pertama adalah kita cek apakah koefisien dari matriks diagonalnya dominan atau tidak."
      ],
      "metadata": {
        "id": "96J4FyCEkbTw"
      }
    },
    {
      "cell_type": "code",
      "source": [
        "import numpy as np\n",
        "A = [[3, -0.1, -0.2], [0.1, 7, -0.3], [0.3, -0.2, 10]]\n",
        "\n",
        "diag = np.diag(np.abs(A))\n",
        "off_diag = np.sum(np.abs(A), axis=1) - diag\n",
        "\n",
        "if np.all(diag > off_diag):\n",
        "    print('Matriks diagonalnya dominan')\n",
        "else:\n",
        "    print('Matriks diagonalnya tidak dominan')"
      ],
      "metadata": {
        "colab": {
          "base_uri": "https://localhost:8080/"
        },
        "id": "U-o8XAZRkkhi",
        "outputId": "ce95d5b7-7656-4ae3-e567-825fa13c685c"
      },
      "execution_count": 7,
      "outputs": [
        {
          "output_type": "stream",
          "name": "stdout",
          "text": [
            "Matriks diagonalnya dominan\n"
          ]
        }
      ]
    },
    {
      "cell_type": "markdown",
      "source": [
        "Karena matriks diagonalnya dominan, maka kita dapat menggunakan metode Gauss-Seidel untuk menyelesaikan soal ini hingga menemukan solusinya."
      ],
      "metadata": {
        "id": "6HJ4DdEqk8SW"
      }
    },
    {
      "cell_type": "code",
      "source": [
        "import numpy as np\n",
        "\n",
        "x = 1\n",
        "y = 2\n",
        "z = 3\n",
        "epsilon = 0.001\n",
        "converged = False\n",
        "\n",
        "x_old = np.array([x, y, z])\n",
        "\n",
        "for k in range(1, 50):\n",
        "    x = (7.85 + 0.1*y + 0.2*z)/3\n",
        "    y = (-19.3 - 0.1*x + 0.3*z)/7\n",
        "    z = (71.4 - 0.3*x - 0.2*y)/10\n",
        "    x_new = np.array([x, y, z])\n",
        "    dx = np.sqrt(np.dot(x_new - x_old, x_new - x_old))\n",
        "\n",
        "    print(\"%d, %.4f, %.4f, %.4f\"%(k, x, y, z))\n",
        "    if dx < epsilon:\n",
        "        converged = True\n",
        "        print('Solusi ditemukan')\n",
        "        break\n",
        "\n",
        "    x_old = x_new\n",
        "if not converged:\n",
        "    print('Solusi tidak ditemukan')"
      ],
      "metadata": {
        "colab": {
          "base_uri": "https://localhost:8080/"
        },
        "id": "U_ToodWVlLof",
        "outputId": "e13714a2-df76-403a-c5e8-9a3729b5615d"
      },
      "execution_count": 8,
      "outputs": [
        {
          "output_type": "stream",
          "name": "stdout",
          "text": [
            "1, 2.8833, -2.6698, 7.1069\n",
            "2, 3.0015, -2.4954, 7.0999\n",
            "3, 3.0068, -2.4958, 7.0997\n",
            "4, 3.0068, -2.4958, 7.0997\n",
            "Solusi ditemukan\n"
          ]
        }
      ]
    },
    {
      "cell_type": "markdown",
      "source": [
        "Solusi dapat ditemukan dengan metode Gauss-Seidel. Mari kita bandingkan dengan library Numpy."
      ],
      "metadata": {
        "id": "mNVObzHjmXgR"
      }
    },
    {
      "cell_type": "code",
      "source": [
        "import numpy as np\n",
        "A = np.array([[3, -0.1, -0.2], [0.1, 7, -0.3], [0.3, -0.2, 10]])\n",
        "y = np.array([7.85, -19.3, 71.4])\n",
        "\n",
        "x = np.linalg.solve(A, y)\n",
        "print(x)"
      ],
      "metadata": {
        "colab": {
          "base_uri": "https://localhost:8080/"
        },
        "id": "wD4SArO7mib5",
        "outputId": "735e8da1-58b7-48fe-c419-00c08467d9c6"
      },
      "execution_count": 9,
      "outputs": [
        {
          "output_type": "stream",
          "name": "stdout",
          "text": [
            "[ 3.  -2.5  7. ]\n"
          ]
        }
      ]
    },
    {
      "cell_type": "markdown",
      "source": [
        "Dari sini kita dapat melihat perbandingan kedua cara di atas."
      ],
      "metadata": {
        "id": "ktumNvenm9Yk"
      }
    },
    {
      "cell_type": "markdown",
      "source": [
        "Soal nomor tiga:\n",
        "\n",
        "Diketahui data berikut:\n",
        "\n",
        "X\tY\n",
        "\n",
        "5\t10\n",
        "\n",
        "4\t8\n",
        "\n",
        "6\t12\n",
        "\n",
        "7\t14\n",
        "\n",
        "5\t10\n",
        "\n",
        "a.\tTentukan nilai alpha variabel (nilai a dan b pada persamaan y=ax+b) dengan Least Square Method\n",
        "\n",
        "b.\tBuatlah plot hasil regresi kalian bersama dengan titik-titik pada soal\n"
      ],
      "metadata": {
        "id": "erh2A5lbnqrh"
      }
    },
    {
      "cell_type": "code",
      "source": [
        "import numpy as np\n",
        "from scipy import optimize\n",
        "import matplotlib.pyplot as plt\n",
        "\n",
        "x = np.array([5, 4, 6, 7, 5])\n",
        "y = np.array([10, 8, 12, 14, 10])\n",
        "\n",
        "A = np.vstack([x, np.ones(len(x))]).T\n",
        "\n",
        "y = y[:, np.newaxis]\n",
        "\n",
        "alpha = np.linalg.inv(A.T @ A) @ A.T @ y\n",
        "a, b = alpha.flatten()\n",
        "\n",
        "print(f\"Nilai a: {a}\")\n",
        "print(f\"Nilai b: {b}\")"
      ],
      "metadata": {
        "colab": {
          "base_uri": "https://localhost:8080/"
        },
        "id": "lW6jauDEobo0",
        "outputId": "947412b3-d8e8-4749-d29a-75f9f6fdfcd9"
      },
      "execution_count": 10,
      "outputs": [
        {
          "output_type": "stream",
          "name": "stdout",
          "text": [
            "Nilai a: 2.0\n",
            "Nilai b: -3.552713678800501e-15\n"
          ]
        }
      ]
    },
    {
      "cell_type": "markdown",
      "source": [
        "Selanjutnya kita buat plot data dan regresi."
      ],
      "metadata": {
        "id": "54AZL5nkpjHI"
      }
    },
    {
      "cell_type": "code",
      "source": [
        "plt.scatter(x, y, color='red', label='Data')\n",
        "plt.plot(x, a*x + b, color='blue', label=f'Regresi: y={a:.2f}x+{b:.2f}')\n",
        "plt.xlabel('x')\n",
        "plt.ylabel('y')\n",
        "plt.legend()\n",
        "plt.show()"
      ],
      "metadata": {
        "colab": {
          "base_uri": "https://localhost:8080/",
          "height": 449
        },
        "id": "BZJA4PtrpvKp",
        "outputId": "a810f487-e6f6-4169-d60f-54e25b1c328f"
      },
      "execution_count": 11,
      "outputs": [
        {
          "output_type": "display_data",
          "data": {
            "text/plain": [
              "<Figure size 640x480 with 1 Axes>"
            ],
            "image/png": "[encoded data removed]"
          },
          "metadata": {}
        }
      ]
    }
  ]
}